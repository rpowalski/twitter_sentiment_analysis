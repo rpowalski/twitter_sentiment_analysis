{
 "cells": [
  {
   "cell_type": "markdown",
   "metadata": {},
   "source": [
    "## Data"
   ]
  },
  {
   "cell_type": "markdown",
   "metadata": {},
   "source": [
    "We need to download the twitter data from this site: http://alt.qcri.org/semeval2017/task4/\n",
    "link : [Link](https://www.dropbox.com/s/byzr8yoda6bua1b/2017_English_final.zip?file_subpath=%2F2017_English_final%2FGOLD%2FSubtask_A) and copy it to the PATH location."
   ]
  },
  {
   "cell_type": "markdown",
   "metadata": {},
   "source": [
    "The notebook use fastai.text module which in many cases is faster than torchtext. Fastai is an awesome library build on to of pytorch and contain many useful tools"
   ]
  },
  {
   "cell_type": "code",
   "execution_count": 1,
   "metadata": {},
   "outputs": [],
   "source": [
    "from fastai.text import *\n",
    "import html\n",
    "from pathlib import Path"
   ]
  },
  {
   "cell_type": "code",
   "execution_count": 2,
   "metadata": {},
   "outputs": [],
   "source": [
    "BOS = 'xbos'  # beginning-of-sentence tag\n",
    "FLD = 'xfld'  # data field tag\n",
    "\n",
    "PATH=Path('data/twitter/sentiment_train')"
   ]
  },
  {
   "cell_type": "markdown",
   "metadata": {},
   "source": [
    "## Standardize format"
   ]
  },
  {
   "cell_type": "code",
   "execution_count": 3,
   "metadata": {},
   "outputs": [],
   "source": [
    "CLAS_PATH=Path('data/twitter/clas') #path for data for classification model\n",
    "CLAS_PATH.mkdir(exist_ok=True)\n",
    "\n",
    "LM_PATH=Path('data/twitter/lm') #path for data for language model\n",
    "LM_PATH.mkdir(exist_ok=True)"
   ]
  },
  {
   "cell_type": "markdown",
   "metadata": {},
   "source": [
    "The semval dataset has 3 classes. positive, negative and neutral. \n",
    "All data from previous years will be used for training. \n",
    "Test set from 2016 will be used as dev/test set.\n"
   ]
  },
  {
   "cell_type": "code",
   "execution_count": 4,
   "metadata": {},
   "outputs": [],
   "source": [
    "CLASSES = ['negative', 'neutral', 'positive']\n",
    "class_toint = {'negative':0, 'neutral':1, 'positive':2}\n",
    "class_totxt = {0:'negative', 1:'neutral', 2:'positive'}"
   ]
  },
  {
   "cell_type": "code",
   "execution_count": 5,
   "metadata": {},
   "outputs": [],
   "source": [
    "import pandas as pd\n",
    "#get data to one array\n",
    "def get_data(path):\n",
    "    texts,labels,dss = [],[],[]\n",
    "    for fname in (path).glob('*.t*'):\n",
    "        tmp_txt = pd.read_csv(fname, sep='\\t', header=None).dropna(1)\n",
    "        tmp_txt['ds'] = str(fname).split('/')[-1]\n",
    "        dss.append(tmp_txt.iloc[:,-1].values)\n",
    "        texts.append(tmp_txt.iloc[:,-2].values)\n",
    "        labels.append(tmp_txt.iloc[:,-3].values)\n",
    "    return np.concatenate(texts),np.concatenate(labels),np.concatenate(dss)\n",
    "\n",
    "\n",
    "all_texts, all_labels_txt, all_dss = get_data(PATH)\n"
   ]
  },
  {
   "cell_type": "code",
   "execution_count": 6,
   "metadata": {},
   "outputs": [
    {
     "data": {
      "text/plain": [
       "array(['negative', 'neutral', 'positive'], dtype=object)"
      ]
     },
     "execution_count": 6,
     "metadata": {},
     "output_type": "execute_result"
    }
   ],
   "source": [
    "#check for wrong labels\n",
    "np.unique(all_labels_txt)"
   ]
  },
  {
   "cell_type": "code",
   "execution_count": 7,
   "metadata": {},
   "outputs": [],
   "source": [
    "#change text labels to numbers\n",
    "all_labels = np.array([class_toint[i] for i in all_labels_txt])"
   ]
  },
  {
   "cell_type": "code",
   "execution_count": 8,
   "metadata": {},
   "outputs": [
    {
     "data": {
      "text/plain": [
       "((53368,), (53368,), (53368,))"
      ]
     },
     "execution_count": 8,
     "metadata": {},
     "output_type": "execute_result"
    }
   ],
   "source": [
    "#check if imported arrays looks good\n",
    "all_labels.shape, all_texts.shape, all_dss.shape"
   ]
  },
  {
   "cell_type": "code",
   "execution_count": 9,
   "metadata": {},
   "outputs": [],
   "source": [
    "col_names = ['labels','text']"
   ]
  },
  {
   "cell_type": "code",
   "execution_count": 10,
   "metadata": {},
   "outputs": [
    {
     "name": "stdout",
     "output_type": "stream",
     "text": [
      "duplicates: 778\n",
      "duplicates: 0\n"
     ]
    }
   ],
   "source": [
    "all_data_df = pd.DataFrame({'text':all_texts, 'labels':all_labels, 'dataset':all_dss}, columns=col_names + ['dataset'])\n",
    "#remove duplicates\n",
    "print('duplicates:', np.sum(all_data_df.duplicated(subset=col_names[1])))\n",
    "all_data_df = all_data_df.drop_duplicates(subset=col_names[1])\n",
    "print('duplicates:', np.sum(all_data_df.duplicated(subset=col_names[1])))"
   ]
  },
  {
   "cell_type": "code",
   "execution_count": 11,
   "metadata": {},
   "outputs": [
    {
     "data": {
      "text/html": [
       "<div>\n",
       "<style scoped>\n",
       "    .dataframe tbody tr th:only-of-type {\n",
       "        vertical-align: middle;\n",
       "    }\n",
       "\n",
       "    .dataframe tbody tr th {\n",
       "        vertical-align: top;\n",
       "    }\n",
       "\n",
       "    .dataframe thead th {\n",
       "        text-align: right;\n",
       "    }\n",
       "</style>\n",
       "<table border=\"1\" class=\"dataframe\">\n",
       "  <thead>\n",
       "    <tr style=\"text-align: right;\">\n",
       "      <th></th>\n",
       "      <th>labels</th>\n",
       "      <th>text</th>\n",
       "      <th>dataset</th>\n",
       "    </tr>\n",
       "  </thead>\n",
       "  <tbody>\n",
       "    <tr>\n",
       "      <th>9703</th>\n",
       "      <td>2</td>\n",
       "      <td>Nice to know my friends care and are genuinely...</td>\n",
       "      <td>twitter-2014sarcasm-A.txt</td>\n",
       "    </tr>\n",
       "    <tr>\n",
       "      <th>12797</th>\n",
       "      <td>2</td>\n",
       "      <td>Batman may of been the better man in our last ...</td>\n",
       "      <td>twitter-2016train-A.txt</td>\n",
       "    </tr>\n",
       "    <tr>\n",
       "      <th>13611</th>\n",
       "      <td>2</td>\n",
       "      <td>@106andpark: Did you enjoy last night's Life O...</td>\n",
       "      <td>twitter-2016train-A.txt</td>\n",
       "    </tr>\n",
       "    <tr>\n",
       "      <th>13867</th>\n",
       "      <td>1</td>\n",
       "      <td>All presidents of American except one are or h...</td>\n",
       "      <td>twitter-2016train-A.txt</td>\n",
       "    </tr>\n",
       "    <tr>\n",
       "      <th>15069</th>\n",
       "      <td>1</td>\n",
       "      <td>Take the Romans. In the 2nd-3rd centuries BC, ...</td>\n",
       "      <td>twitter-2016train-A.txt</td>\n",
       "    </tr>\n",
       "    <tr>\n",
       "      <th>15425</th>\n",
       "      <td>2</td>\n",
       "      <td>In 2015 Forbes ranked Nestle as the 30th large...</td>\n",
       "      <td>twitter-2016train-A.txt</td>\n",
       "    </tr>\n",
       "    <tr>\n",
       "      <th>43830</th>\n",
       "      <td>2</td>\n",
       "      <td>hey andy sori real late in writing tis. So how...</td>\n",
       "      <td>sms-2013test-A.tsv</td>\n",
       "    </tr>\n",
       "    <tr>\n",
       "      <th>44357</th>\n",
       "      <td>2</td>\n",
       "      <td>Hi\\u002c this is Nigel. I\\u2019ll like to wish...</td>\n",
       "      <td>sms-2013test-A.tsv</td>\n",
       "    </tr>\n",
       "    <tr>\n",
       "      <th>44400</th>\n",
       "      <td>1</td>\n",
       "      <td>If u sad should say mah\\u002c then i will go. ...</td>\n",
       "      <td>sms-2013test-A.tsv</td>\n",
       "    </tr>\n",
       "    <tr>\n",
       "      <th>47357</th>\n",
       "      <td>2</td>\n",
       "      <td>@SportsCenter: Serena remains on top! The youn...</td>\n",
       "      <td>twitter-2016dev-A.txt</td>\n",
       "    </tr>\n",
       "  </tbody>\n",
       "</table>\n",
       "</div>"
      ],
      "text/plain": [
       "       labels                                               text  \\\n",
       "9703        2  Nice to know my friends care and are genuinely...   \n",
       "12797       2  Batman may of been the better man in our last ...   \n",
       "13611       2  @106andpark: Did you enjoy last night's Life O...   \n",
       "13867       1  All presidents of American except one are or h...   \n",
       "15069       1  Take the Romans. In the 2nd-3rd centuries BC, ...   \n",
       "15425       2  In 2015 Forbes ranked Nestle as the 30th large...   \n",
       "43830       2  hey andy sori real late in writing tis. So how...   \n",
       "44357       2  Hi\\u002c this is Nigel. I\\u2019ll like to wish...   \n",
       "44400       1  If u sad should say mah\\u002c then i will go. ...   \n",
       "47357       2  @SportsCenter: Serena remains on top! The youn...   \n",
       "\n",
       "                         dataset  \n",
       "9703   twitter-2014sarcasm-A.txt  \n",
       "12797    twitter-2016train-A.txt  \n",
       "13611    twitter-2016train-A.txt  \n",
       "13867    twitter-2016train-A.txt  \n",
       "15069    twitter-2016train-A.txt  \n",
       "15425    twitter-2016train-A.txt  \n",
       "43830         sms-2013test-A.tsv  \n",
       "44357         sms-2013test-A.tsv  \n",
       "44400         sms-2013test-A.tsv  \n",
       "47357      twitter-2016dev-A.txt  "
      ]
     },
     "execution_count": 11,
     "metadata": {},
     "output_type": "execute_result"
    }
   ],
   "source": [
    "#twits should be rather short, lets check if there are any twits longer than 280 characters\n",
    "all_data_df[all_data_df['text'].map(len)>280]"
   ]
  },
  {
   "cell_type": "code",
   "execution_count": 12,
   "metadata": {},
   "outputs": [
    {
     "data": {
      "text/plain": [
       "'Batman may of been the better man in our last encounter,   but I\\'m a man on a mission and it\\'s to expose you for what you really are and --\\n640710805508497415\\tpositive\\tHeath Ledger in Batman may be the best performance of any actor in any movie of all time\\n640711961252990976\\tneutral\\t@040hz I mean, Batman was corny af until this trilogy, the 3rd one was so not Batman.\\n640766902772502528\\tneutral\\t@headgeek666 TOM HARDY should play BANE again... He should kill BATMAN when they want 2 replace like in the comics... The 3rd... KNIGHTFALL\\n640820660214730752\\tnegative\\tWhatever, Batman. You may call it the Batcave, but that doesn?t change the fact you still live in your parents? basement.\\n640892624883335168\\tnegative\\tCurled up in bed watching Batman cartoons, it\\'s a terrible Monday after all.\\n640922022860713985\\tpositive\\tSo I\\'ll see you all tomorrow for some fun filled feeding in League and prolly some skull smashing in Batman!\\n640940787723857920\\tpositive\\tBATMAN Death in the Family 4 Issue Set 426 427 428 429 ALL 1st PRINTS Awesome http://t.co/E50fnZWJ5L http://t.co/hHyk8C4VET\\n640968723369558016\\tpositive\\t@zwergie1  Batman didn\\'t testify at his 2nd trial and took deal because he didn\\'t want DP. Can it get simpler than this? Now I\\'m hooked.\\n640985923124133888\\tpositive\\tTime to dust off the @cfsmoke #STFD shirt!  FINALLY get to see Batman pitch at PNC.  See you Thursday, @wudeydo34 and @Pirates!\\n641030078021939200\\tneutral\\tXbox 360 250GB Black Friday Bundle with Halo 4, Darksiders II, Tomb Raider and Batman http://t.co/RG9g8ReWkM http://t.co/SxxsT8Xvaa\\n641057513362862080\\tpositive\\t@Jewchaynz it\\'s different from comic club, because everyone loves Batman, but not may people walk around shooting fire balls. Ya know?\\n641105604484820992\\tpositive\\tMonday Batmania! I\\'m live with Batman: Arkham Asylum right now http://t.co/poAektezV9 #gamergirl #twitchstreaming #xbox\\n641169599032000516\\tpositive\\tGot the new PC up and running! Batman looks GLORIOUS!! We\\'ll be casting it tomorrow! See you at 11am PST!\\n641308923409092609\\tpositive\\tBatman #44 drops tomorrow. Make sure you go pick it up. Seriously!\\n641332666537771008\\tpositive\\t@thorlokid the accuracy of this is scary. although i may also be sitting in batman comics\\n641366871120343045\\tneutral\\tBased on these Arkham games, Batman may not kill, but he\\'s definitely put a few people in comas.\\n641371312900960257\\tpositive\\t@Demion999 @BentleySunday Good night Batman. Thank you and see you tomorrow!\\n641380527858028544\\tpositive\\tBatman the #killing joke 1st printing nm 9.4 #joker #cripples barbara gordon! , LINK: http://t.co/BrgGy65Xmo http://t.co/SmPedzwvBx\\n641380875742134273\\tpositive\\tHairdresser with 4yo tomorrow.  He wants it like Spiderman\" (not Peter P) / no fringe (for better face painting) / \"with Batman ears\".'"
      ]
     },
     "execution_count": 12,
     "metadata": {},
     "output_type": "execute_result"
    }
   ],
   "source": [
    "all_data_df['text'].loc[12797]"
   ]
  },
  {
   "cell_type": "code",
   "execution_count": 13,
   "metadata": {},
   "outputs": [],
   "source": [
    "#It doesn't look like a tweet, I will remove these long tweets\n",
    "all_data_df = all_data_df[all_data_df['text'].map(len)<=280]"
   ]
  },
  {
   "cell_type": "markdown",
   "metadata": {},
   "source": [
    "Let's split the data to train and test datasets. As in competition I will use twitter-2016test-A dataset for testing."
   ]
  },
  {
   "cell_type": "code",
   "execution_count": 14,
   "metadata": {},
   "outputs": [],
   "source": [
    "df_trn = all_data_df.loc[all_data_df['dataset']!='twitter-2016test-A.txt'].iloc[:,:2]\n",
    "df_val = all_data_df.loc[all_data_df['dataset']=='twitter-2016test-A.txt'].iloc[:,:2]"
   ]
  },
  {
   "cell_type": "code",
   "execution_count": 15,
   "metadata": {},
   "outputs": [
    {
     "name": "stdout",
     "output_type": "stream",
     "text": [
      "df_trn: (32085, 2)\n",
      "df_val: (20495, 2)\n"
     ]
    }
   ],
   "source": [
    "print(f'df_trn: {df_trn.shape}')\n",
    "print(f'df_val: {df_val.shape}')\n",
    "\n",
    "assert(df_trn.shape[0]+df_val.shape[0]==all_data_df.shape[0])"
   ]
  },
  {
   "cell_type": "code",
   "execution_count": 16,
   "metadata": {},
   "outputs": [
    {
     "data": {
      "text/html": [
       "<div>\n",
       "<style scoped>\n",
       "    .dataframe tbody tr th:only-of-type {\n",
       "        vertical-align: middle;\n",
       "    }\n",
       "\n",
       "    .dataframe tbody tr th {\n",
       "        vertical-align: top;\n",
       "    }\n",
       "\n",
       "    .dataframe thead th {\n",
       "        text-align: right;\n",
       "    }\n",
       "</style>\n",
       "<table border=\"1\" class=\"dataframe\">\n",
       "  <thead>\n",
       "    <tr style=\"text-align: right;\">\n",
       "      <th></th>\n",
       "      <th>labels</th>\n",
       "      <th>text</th>\n",
       "    </tr>\n",
       "  </thead>\n",
       "  <tbody>\n",
       "    <tr>\n",
       "      <th>0</th>\n",
       "      <td>2</td>\n",
       "      <td>Gas by my house hit $3.39!!!! I\\u2019m going t...</td>\n",
       "    </tr>\n",
       "    <tr>\n",
       "      <th>1</th>\n",
       "      <td>0</td>\n",
       "      <td>Theo Walcott is still shit\\u002c watch Rafa an...</td>\n",
       "    </tr>\n",
       "    <tr>\n",
       "      <th>2</th>\n",
       "      <td>0</td>\n",
       "      <td>its not that I\\u2019m a GSP fan\\u002c i just h...</td>\n",
       "    </tr>\n",
       "    <tr>\n",
       "      <th>3</th>\n",
       "      <td>0</td>\n",
       "      <td>Iranian general says Israel\\u2019s Iron Dome c...</td>\n",
       "    </tr>\n",
       "    <tr>\n",
       "      <th>4</th>\n",
       "      <td>1</td>\n",
       "      <td>Tehran\\u002c Mon Amour: Obama Tried to Establi...</td>\n",
       "    </tr>\n",
       "  </tbody>\n",
       "</table>\n",
       "</div>"
      ],
      "text/plain": [
       "   labels                                               text\n",
       "0       2  Gas by my house hit $3.39!!!! I\\u2019m going t...\n",
       "1       0  Theo Walcott is still shit\\u002c watch Rafa an...\n",
       "2       0  its not that I\\u2019m a GSP fan\\u002c i just h...\n",
       "3       0  Iranian general says Israel\\u2019s Iron Dome c...\n",
       "4       1  Tehran\\u002c Mon Amour: Obama Tried to Establi..."
      ]
     },
     "execution_count": 16,
     "metadata": {},
     "output_type": "execute_result"
    }
   ],
   "source": [
    "#print some data\n",
    "df_trn.head()"
   ]
  },
  {
   "cell_type": "code",
   "execution_count": 17,
   "metadata": {},
   "outputs": [],
   "source": [
    "#save the data for classification model\n",
    "df_trn.to_csv(CLAS_PATH/'train.csv', header=False, index=False)\n",
    "df_val.to_csv(CLAS_PATH/'test.csv', header=False, index=False)"
   ]
  },
  {
   "cell_type": "markdown",
   "metadata": {},
   "source": [
    "#### Prepare data for LM"
   ]
  },
  {
   "cell_type": "markdown",
   "metadata": {},
   "source": [
    "I need LM to use it as a enocoding part for the clasifier. Since we don't use actual classifier labels here I gonna use also text corpus from test set. Test set for this part will be generated randomly from all text datasets. "
   ]
  },
  {
   "cell_type": "code",
   "execution_count": 18,
   "metadata": {},
   "outputs": [
    {
     "name": "stdout",
     "output_type": "stream",
     "text": [
      "df_trn_lm: (47322, 2)\n",
      "df_val_lm: (5258, 2)\n"
     ]
    }
   ],
   "source": [
    "df_trn_lm, df_val_lm = sklearn.model_selection.train_test_split(\n",
    "                all_data_df.iloc[:,:2], test_size=0.1, random_state=11)\n",
    "\n",
    "df_trn_lm['labels'] = 0\n",
    "df_val_lm['labels'] = 0\n",
    "\n",
    "print(f'df_trn_lm: {df_trn_lm.shape}')\n",
    "print(f'df_val_lm: {df_val_lm.shape}')\n",
    "assert(df_trn_lm.shape[0]+df_val_lm.shape[0]==all_data_df.shape[0])\n",
    "\n",
    "df_trn_lm.to_csv(LM_PATH/'train.csv', header=False, index=False)\n",
    "df_val_lm.to_csv(LM_PATH/'test.csv', header=False, index=False)"
   ]
  },
  {
   "cell_type": "code",
   "execution_count": 19,
   "metadata": {},
   "outputs": [
    {
     "data": {
      "text/html": [
       "<div>\n",
       "<style scoped>\n",
       "    .dataframe tbody tr th:only-of-type {\n",
       "        vertical-align: middle;\n",
       "    }\n",
       "\n",
       "    .dataframe tbody tr th {\n",
       "        vertical-align: top;\n",
       "    }\n",
       "\n",
       "    .dataframe thead th {\n",
       "        text-align: right;\n",
       "    }\n",
       "</style>\n",
       "<table border=\"1\" class=\"dataframe\">\n",
       "  <thead>\n",
       "    <tr style=\"text-align: right;\">\n",
       "      <th></th>\n",
       "      <th>labels</th>\n",
       "      <th>text</th>\n",
       "    </tr>\n",
       "  </thead>\n",
       "  <tbody>\n",
       "    <tr>\n",
       "      <th>48436</th>\n",
       "      <td>0</td>\n",
       "      <td>Please , if you could help me out and recommen...</td>\n",
       "    </tr>\n",
       "    <tr>\n",
       "      <th>51368</th>\n",
       "      <td>0</td>\n",
       "      <td>@Pops33 @EdsChickenWing Sitting Sat. Wasn't go...</td>\n",
       "    </tr>\n",
       "    <tr>\n",
       "      <th>38547</th>\n",
       "      <td>0</td>\n",
       "      <td>Liam and Niall teasing the 5th album.. #OTRAOt...</td>\n",
       "    </tr>\n",
       "    <tr>\n",
       "      <th>15697</th>\n",
       "      <td>0</td>\n",
       "      <td>ATTN: Beginning Oct 1st, Munzee 3.0 will be th...</td>\n",
       "    </tr>\n",
       "    <tr>\n",
       "      <th>18048</th>\n",
       "      <td>0</td>\n",
       "      <td>Got so excited because today is thursday and G...</td>\n",
       "    </tr>\n",
       "  </tbody>\n",
       "</table>\n",
       "</div>"
      ],
      "text/plain": [
       "       labels                                               text\n",
       "48436       0  Please , if you could help me out and recommen...\n",
       "51368       0  @Pops33 @EdsChickenWing Sitting Sat. Wasn't go...\n",
       "38547       0  Liam and Niall teasing the 5th album.. #OTRAOt...\n",
       "15697       0  ATTN: Beginning Oct 1st, Munzee 3.0 will be th...\n",
       "18048       0  Got so excited because today is thursday and G..."
      ]
     },
     "execution_count": 19,
     "metadata": {},
     "output_type": "execute_result"
    }
   ],
   "source": [
    "df_trn_lm.head()"
   ]
  },
  {
   "cell_type": "markdown",
   "metadata": {},
   "source": [
    "## Language model tokens"
   ]
  },
  {
   "cell_type": "markdown",
   "metadata": {},
   "source": [
    "The section for cleaning and tokenizing the text.\n",
    "Use spacy tokenizer with fastai implementation which allow to use multiple cores."
   ]
  },
  {
   "cell_type": "code",
   "execution_count": 20,
   "metadata": {},
   "outputs": [],
   "source": [
    "chunksize=24000"
   ]
  },
  {
   "cell_type": "code",
   "execution_count": 21,
   "metadata": {},
   "outputs": [],
   "source": [
    "re1 = re.compile(r'  +')\n",
    "\n",
    "def fixup(x):\n",
    "    x = x.replace('#39;', \"'\").replace('amp;', '&').replace('#146;', \"'\").replace(\n",
    "        'nbsp;', ' ').replace('#36;', '$').replace('\\\\n', \"\\n\").replace('quot;', \"'\").replace(\n",
    "        '<br />', \"\\n\").replace('\\\\\"', '\"').replace('<unk>','u_n').replace(' @.@ ','.').replace(\n",
    "        ' @-@ ','-').replace('\\\\', ' \\\\ ')\n",
    "    return re1.sub(' ', html.unescape(x))"
   ]
  },
  {
   "cell_type": "code",
   "execution_count": 22,
   "metadata": {},
   "outputs": [],
   "source": [
    "def get_texts(df, n_lbls=1):\n",
    "    labels = df.iloc[:,range(n_lbls)].values.astype(np.int64)\n",
    "    texts = f'\\n{BOS} {FLD} 1 ' + df[n_lbls].astype(str)\n",
    "    for i in range(n_lbls+1, len(df.columns)): texts += f' {FLD} {i-n_lbls} ' + df[i].astype(str)\n",
    "    texts = texts.apply(fixup).values.astype(str)\n",
    "\n",
    "    tok = Tokenizer().proc_all_mp(partition_by_cores(texts))\n",
    "    return tok, list(labels)"
   ]
  },
  {
   "cell_type": "code",
   "execution_count": 23,
   "metadata": {},
   "outputs": [],
   "source": [
    "def get_all(df, n_lbls):\n",
    "    tok, labels = [], []\n",
    "    for i, r in enumerate(df):\n",
    "        print(i)\n",
    "        tok_, labels_ = get_texts(r, n_lbls)\n",
    "        tok += tok_;\n",
    "        labels += labels_\n",
    "    return tok, labels"
   ]
  },
  {
   "cell_type": "code",
   "execution_count": 24,
   "metadata": {},
   "outputs": [],
   "source": [
    "df_trn_lm = pd.read_csv(LM_PATH/'train.csv', header=None, chunksize=chunksize)\n",
    "df_val_lm = pd.read_csv(LM_PATH/'test.csv', header=None, chunksize=chunksize)"
   ]
  },
  {
   "cell_type": "code",
   "execution_count": 25,
   "metadata": {
    "scrolled": false
   },
   "outputs": [
    {
     "name": "stdout",
     "output_type": "stream",
     "text": [
      "0\n",
      "1\n",
      "0\n"
     ]
    }
   ],
   "source": [
    "tok_trn, trn_labels = get_all(df_trn_lm, 1)\n",
    "tok_val, val_labels = get_all(df_val_lm, 1)"
   ]
  },
  {
   "cell_type": "markdown",
   "metadata": {},
   "source": [
    "Save the numpy arrays to the tmp directory"
   ]
  },
  {
   "cell_type": "code",
   "execution_count": 26,
   "metadata": {},
   "outputs": [],
   "source": [
    "(LM_PATH/'tmp').mkdir(exist_ok=True)"
   ]
  },
  {
   "cell_type": "code",
   "execution_count": 27,
   "metadata": {},
   "outputs": [],
   "source": [
    "np.save(LM_PATH/'tmp'/'tok_trn.npy', tok_trn)\n",
    "np.save(LM_PATH/'tmp'/'tok_val.npy', tok_val)"
   ]
  },
  {
   "cell_type": "code",
   "execution_count": 28,
   "metadata": {},
   "outputs": [],
   "source": [
    "tok_trn = np.load(LM_PATH/'tmp'/'tok_trn.npy')\n",
    "tok_val = np.load(LM_PATH/'tmp'/'tok_val.npy')"
   ]
  },
  {
   "cell_type": "code",
   "execution_count": 29,
   "metadata": {},
   "outputs": [
    {
     "data": {
      "text/plain": [
       "[('1', 53860),\n",
       " ('\\n', 52617),\n",
       " ('xbos', 52580),\n",
       " ('xfld', 52580),\n",
       " ('/', 45729),\n",
       " ('the', 41647),\n",
       " ('.', 37346),\n",
       " ('to', 23806),\n",
       " (':', 22680),\n",
       " ('i', 20952),\n",
       " ('t_up', 20123),\n",
       " (',', 19771),\n",
       " ('!', 16946),\n",
       " ('in', 15125),\n",
       " ('a', 14694),\n",
       " ('on', 14486),\n",
       " ('t.co', 14393),\n",
       " ('and', 14179),\n",
       " ('#', 12754),\n",
       " ('of', 12143),\n",
       " ('is', 11279),\n",
       " ('for', 11124),\n",
       " ('http', 11017),\n",
       " ('\\\\', 10992),\n",
       " ('it', 10443)]"
      ]
     },
     "execution_count": 29,
     "metadata": {},
     "output_type": "execute_result"
    }
   ],
   "source": [
    "#check most frequent tokens\n",
    "freq = Counter(p for dt in [tok_trn,tok_val] for o in dt for p in o)\n",
    "freq.most_common(25)"
   ]
  },
  {
   "cell_type": "markdown",
   "metadata": {},
   "source": [
    "It has been observed by NLP practicioners that a maximum vocab of 60k usually yields good results for classification tasks. So we set maz_vocab to 60000."
   ]
  },
  {
   "cell_type": "code",
   "execution_count": 30,
   "metadata": {},
   "outputs": [],
   "source": [
    "max_vocab = 60000\n",
    "#let's set up min_freq to 1 so we can have some data from lm even for single word occurance\n",
    "min_freq = 1\n",
    "\n",
    "itos = [o for o,c in freq.most_common(max_vocab) if c>min_freq]\n",
    "itos.insert(0, '_pad_')\n",
    "itos.insert(0, '_unk_')"
   ]
  },
  {
   "cell_type": "code",
   "execution_count": 31,
   "metadata": {},
   "outputs": [
    {
     "data": {
      "text/plain": [
       "22471"
      ]
     },
     "execution_count": 31,
     "metadata": {},
     "output_type": "execute_result"
    }
   ],
   "source": [
    "stoi = collections.defaultdict(lambda:0, {v:k for k,v in enumerate(itos)})\n",
    "len(itos)"
   ]
  },
  {
   "cell_type": "code",
   "execution_count": 32,
   "metadata": {},
   "outputs": [],
   "source": [
    "trn_lm = np.array([[stoi[o] for o in p] for p in tok_trn])\n",
    "val_lm = np.array([[stoi[o] for o in p] for p in tok_val])"
   ]
  },
  {
   "cell_type": "code",
   "execution_count": 33,
   "metadata": {},
   "outputs": [],
   "source": [
    "#save it to disk in case of crush\n",
    "np.save(LM_PATH/'tmp'/'trn_ids.npy', trn_lm)\n",
    "np.save(LM_PATH/'tmp'/'val_ids.npy', val_lm)\n",
    "pickle.dump(itos, open(LM_PATH/'tmp'/'itos.pkl', 'wb'))"
   ]
  },
  {
   "cell_type": "code",
   "execution_count": 34,
   "metadata": {},
   "outputs": [],
   "source": [
    "trn_lm = np.load(LM_PATH/'tmp'/'trn_ids.npy')\n",
    "val_lm = np.load(LM_PATH/'tmp'/'val_ids.npy')\n",
    "itos = pickle.load(open(LM_PATH/'tmp'/'itos.pkl', 'rb'))"
   ]
  },
  {
   "cell_type": "code",
   "execution_count": 35,
   "metadata": {},
   "outputs": [
    {
     "data": {
      "text/plain": [
       "(22471, 47322)"
      ]
     },
     "execution_count": 35,
     "metadata": {},
     "output_type": "execute_result"
    }
   ],
   "source": [
    "vs=len(itos)\n",
    "vs,len(trn_lm)"
   ]
  },
  {
   "cell_type": "markdown",
   "metadata": {},
   "source": [
    "## Language Model"
   ]
  },
  {
   "cell_type": "markdown",
   "metadata": {},
   "source": [
    "Use of pretrained english models as a backbone for our classifier. Usually it was done by using just word embedings, but current researches shows that pretrained and finetuned model gives better results.\n",
    "\n",
    "Source LM is the wikitext103 LM created by Stephen Merity @ Salesforce research. [Link to dataset](https://www.salesforce.com/products/einstein/ai-research/the-wikitext-dependency-language-modeling-dataset/)\n",
    "The language model for wikitext103 has been pre-trained.\n",
    "This model will be also finetuned on twitter text\n",
    "\n",
    "\n",
    "I am going to use backward and forward LM as an input to classifier"
   ]
  },
  {
   "cell_type": "markdown",
   "metadata": {},
   "source": [
    "For the purpose of this steps the pretrained model on wikitext103 is needed. The process of the training on such big text corpus is quite long and I did it on separate notebook. However fastai authors also provide pretrained weights for language models. Weights can be found here: http://files.fast.ai/models/wt103/"
   ]
  },
  {
   "cell_type": "markdown",
   "metadata": {},
   "source": [
    "### Backward - wikitext103 conversion"
   ]
  },
  {
   "cell_type": "code",
   "execution_count": 36,
   "metadata": {},
   "outputs": [],
   "source": [
    "em_sz,nh,nl = 400,1150,3"
   ]
  },
  {
   "cell_type": "code",
   "execution_count": 37,
   "metadata": {},
   "outputs": [],
   "source": [
    "PRE_PATH = PATH/'models'/'wt103'\n",
    "PRE_LM_PATH = PRE_PATH/'bwd_wt103.h5'"
   ]
  },
  {
   "cell_type": "code",
   "execution_count": 38,
   "metadata": {},
   "outputs": [],
   "source": [
    "wgts = torch.load(PRE_LM_PATH, map_location=lambda storage, loc: storage)"
   ]
  },
  {
   "cell_type": "code",
   "execution_count": 39,
   "metadata": {},
   "outputs": [
    {
     "name": "stdout",
     "output_type": "stream",
     "text": [
      "0.encoder.weight\n",
      "(238462, 400)\n",
      "0.encoder_with_dropout.embed.weight\n",
      "(238462, 400)\n",
      "0.rnns.0.module.weight_ih_l0\n",
      "(4600, 400)\n",
      "0.rnns.0.module.bias_ih_l0\n",
      "(4600,)\n",
      "0.rnns.0.module.bias_hh_l0\n",
      "(4600,)\n",
      "0.rnns.0.module.weight_hh_l0_raw\n",
      "(4600, 1150)\n",
      "0.rnns.1.module.weight_ih_l0\n",
      "(4600, 1150)\n",
      "0.rnns.1.module.bias_ih_l0\n",
      "(4600,)\n",
      "0.rnns.1.module.bias_hh_l0\n",
      "(4600,)\n",
      "0.rnns.1.module.weight_hh_l0_raw\n",
      "(4600, 1150)\n",
      "0.rnns.2.module.weight_ih_l0\n",
      "(1600, 1150)\n",
      "0.rnns.2.module.bias_ih_l0\n",
      "(1600,)\n",
      "0.rnns.2.module.bias_hh_l0\n",
      "(1600,)\n",
      "0.rnns.2.module.weight_hh_l0_raw\n",
      "(1600, 400)\n",
      "1.decoder.weight\n",
      "(238462, 400)\n"
     ]
    }
   ],
   "source": [
    "for i in wgts.keys():\n",
    "    print(i)\n",
    "    print(to_np(wgts[i]).shape)"
   ]
  },
  {
   "cell_type": "markdown",
   "metadata": {},
   "source": [
    "Calculate the mean of the layer0 encoder weights. This can be used to assign weights to unknown tokens when we transfer to target IMDB LM."
   ]
  },
  {
   "cell_type": "code",
   "execution_count": 40,
   "metadata": {},
   "outputs": [],
   "source": [
    "enc_wgts = to_np(wgts['0.encoder.weight'])\n",
    "row_m = enc_wgts.mean(0)"
   ]
  },
  {
   "cell_type": "code",
   "execution_count": 41,
   "metadata": {},
   "outputs": [],
   "source": [
    "itos2 = pickle.load((PRE_PATH/'itos_wt103.pkl').open('rb'))\n",
    "stoi2 = collections.defaultdict(lambda:-1, {v:k for k,v in enumerate(itos2)})"
   ]
  },
  {
   "cell_type": "markdown",
   "metadata": {},
   "source": [
    "Need to match up the vocab words and their indexes. \n",
    "Use the defaultdict container once again, to assign mean weights to unknown twitter tokens that do not exist in wikitext103."
   ]
  },
  {
   "cell_type": "code",
   "execution_count": 42,
   "metadata": {},
   "outputs": [],
   "source": [
    "#let's remove items from wikitext which are not used in twitter data # save the memory\n",
    "new_w = np.zeros((vs, em_sz), dtype=np.float32)\n",
    "for i,w in enumerate(itos):\n",
    "    r = stoi2[w]\n",
    "    new_w[i] = enc_wgts[r] if r>=0 else row_m"
   ]
  },
  {
   "cell_type": "markdown",
   "metadata": {},
   "source": [
    "We now overwrite the weights into the wgts odict.\n",
    "The decoder module, which we will explore in detail is also loaded with the same weights due to an idea called weight tying."
   ]
  },
  {
   "cell_type": "code",
   "execution_count": 43,
   "metadata": {},
   "outputs": [],
   "source": [
    "wgts['0.encoder.weight'] = T(new_w)\n",
    "wgts['0.encoder_with_dropout.embed.weight'] = T(np.copy(new_w))\n",
    "wgts['1.decoder.weight'] = T(np.copy(new_w))"
   ]
  },
  {
   "cell_type": "markdown",
   "metadata": {},
   "source": [
    "Now that we have the weights prepared, we are ready to create and start training our new IMDB language pytorch model!"
   ]
  },
  {
   "cell_type": "markdown",
   "metadata": {},
   "source": [
    "### Backward - Language model"
   ]
  },
  {
   "cell_type": "markdown",
   "metadata": {},
   "source": [
    "Let's create LM, load the prepared weights and finetune it with twitter word corpus."
   ]
  },
  {
   "cell_type": "code",
   "execution_count": 44,
   "metadata": {},
   "outputs": [],
   "source": [
    "wd=1e-7\n",
    "bptt=70\n",
    "bs=52\n",
    "opt_fn = partial(optim.Adam, betas=(0.8, 0.99))"
   ]
  },
  {
   "cell_type": "markdown",
   "metadata": {},
   "source": [
    "Use fastai `LanguageModelLoader` to create a data loader which makes it easy to create and use bptt sized mini batches. The  `LanguageModelLoader` takes a concatenated string of tokens and returns a loader.\n"
   ]
  },
  {
   "cell_type": "code",
   "execution_count": 45,
   "metadata": {},
   "outputs": [],
   "source": [
    "trn_dl = LanguageModelLoader(np.concatenate(trn_lm), bs, bptt)\n",
    "val_dl = LanguageModelLoader(np.concatenate(val_lm), bs, bptt)\n",
    "md = LanguageModelData(PATH, 1, vs, trn_dl, val_dl, bs=bs, bptt=bptt, backwards=True)"
   ]
  },
  {
   "cell_type": "code",
   "execution_count": 46,
   "metadata": {},
   "outputs": [],
   "source": [
    "#below recommended dropouts by fastai"
   ]
  },
  {
   "cell_type": "code",
   "execution_count": 47,
   "metadata": {},
   "outputs": [],
   "source": [
    "drops = np.array([0.25, 0.1, 0.2, 0.02, 0.15]) * 1."
   ]
  },
  {
   "cell_type": "markdown",
   "metadata": {},
   "source": [
    "We first tune the last embedding layer so that the missing tokens initialized with mean weights get tuned properly. So we freeze everything except the last layer."
   ]
  },
  {
   "cell_type": "code",
   "execution_count": 48,
   "metadata": {},
   "outputs": [],
   "source": [
    "learner= md.get_model(opt_fn, em_sz, nh, nl, \n",
    "    dropouti=drops[0], dropout=drops[1], wdrop=drops[2], dropoute=drops[3], dropouth=drops[4])\n",
    "\n",
    "learner.metrics = [accuracy]\n",
    "learner.freeze_to(-1)"
   ]
  },
  {
   "cell_type": "code",
   "execution_count": 49,
   "metadata": {},
   "outputs": [
    {
     "name": "stdout",
     "output_type": "stream",
     "text": [
      "0.encoder.weight torch.Size([22471, 400])\n",
      "0.encoder_with_dropout.embed.weight torch.Size([22471, 400])\n",
      "0.rnns.0.module.weight_ih_l0 torch.Size([4600, 400])\n",
      "0.rnns.0.module.bias_ih_l0 torch.Size([4600])\n",
      "0.rnns.0.module.bias_hh_l0 torch.Size([4600])\n",
      "0.rnns.0.module.weight_hh_l0_raw torch.Size([4600, 1150])\n",
      "0.rnns.1.module.weight_ih_l0 torch.Size([4600, 1150])\n",
      "0.rnns.1.module.bias_ih_l0 torch.Size([4600])\n",
      "0.rnns.1.module.bias_hh_l0 torch.Size([4600])\n",
      "0.rnns.1.module.weight_hh_l0_raw torch.Size([4600, 1150])\n",
      "0.rnns.2.module.weight_ih_l0 torch.Size([1600, 1150])\n",
      "0.rnns.2.module.bias_ih_l0 torch.Size([1600])\n",
      "0.rnns.2.module.bias_hh_l0 torch.Size([1600])\n",
      "0.rnns.2.module.weight_hh_l0_raw torch.Size([1600, 400])\n",
      "1.decoder.weight torch.Size([22471, 400])\n"
     ]
    }
   ],
   "source": [
    "for name, param in learner.model.state_dict().items():\n",
    "    print(name, param.shape)"
   ]
  },
  {
   "cell_type": "code",
   "execution_count": 50,
   "metadata": {},
   "outputs": [],
   "source": [
    "learner.model.load_state_dict(wgts)"
   ]
  },
  {
   "cell_type": "markdown",
   "metadata": {},
   "source": [
    "We set learning rates and fit twitter LM. We first run one epoch to tune the last layer which contains the embedding weights. This should help the missing tokens in the wikitext103 learn better weights."
   ]
  },
  {
   "cell_type": "code",
   "execution_count": 51,
   "metadata": {},
   "outputs": [],
   "source": [
    "lr=1e-3\n",
    "lrs = lr"
   ]
  },
  {
   "cell_type": "code",
   "execution_count": 52,
   "metadata": {},
   "outputs": [
    {
     "data": {
      "application/vnd.jupyter.widget-view+json": {
       "model_id": "cdf3bebfc1704676998b25a8d9a5789e",
       "version_major": 2,
       "version_minor": 0
      },
      "text/plain": [
       "HBox(children=(IntProgress(value=0, description='Epoch', max=1), HTML(value='')))"
      ]
     },
     "metadata": {},
     "output_type": "display_data"
    },
    {
     "name": "stdout",
     "output_type": "stream",
     "text": [
      "epoch      trn_loss   val_loss   accuracy                   \n",
      "    0      7.320447   7.084019   0.129273  \n",
      "\n"
     ]
    },
    {
     "data": {
      "text/plain": [
       "[array([7.08402]), 0.12927252072840928]"
      ]
     },
     "execution_count": 52,
     "metadata": {},
     "output_type": "execute_result"
    }
   ],
   "source": [
    "learner.fit(lrs/2, 1, wds=wd, use_clr=(32,2), cycle_len=1)"
   ]
  },
  {
   "cell_type": "code",
   "execution_count": 53,
   "metadata": {},
   "outputs": [],
   "source": [
    "#unfreeze whole net to train it\n",
    "learner.unfreeze()"
   ]
  },
  {
   "cell_type": "code",
   "execution_count": 54,
   "metadata": {
    "scrolled": true
   },
   "outputs": [
    {
     "data": {
      "application/vnd.jupyter.widget-view+json": {
       "model_id": "499499df56834fa0873db512a2b2b6b6",
       "version_major": 2,
       "version_minor": 0
      },
      "text/plain": [
       "HBox(children=(IntProgress(value=0, description='Epoch', max=1), HTML(value='')))"
      ]
     },
     "metadata": {},
     "output_type": "display_data"
    },
    {
     "name": "stdout",
     "output_type": "stream",
     "text": [
      "epoch      trn_loss   val_loss   accuracy                   \n",
      "    0      6.123681   6.241781   0.224148  \n",
      "\n"
     ]
    }
   ],
   "source": [
    "#try to find good candidate for lr\n",
    "learner.lr_find(wds = wd, start_lr=lrs/100, end_lr=lrs*100, linear=True)"
   ]
  },
  {
   "cell_type": "code",
   "execution_count": 55,
   "metadata": {},
   "outputs": [
    {
     "data": {
      "image/png": "[encoded data removed]",
      "text/plain": [
       "<Figure size 432x288 with 1 Axes>"
      ]
     },
     "metadata": {
      "needs_background": "light"
     },
     "output_type": "display_data"
    }
   ],
   "source": [
    "learner.sched.plot()"
   ]
  },
  {
   "cell_type": "markdown",
   "metadata": {},
   "source": [
    "According to Fastai researchers optimal LR is a biggest value where loss is still significantly decreasing"
   ]
  },
  {
   "cell_type": "code",
   "execution_count": 56,
   "metadata": {},
   "outputs": [
    {
     "data": {
      "application/vnd.jupyter.widget-view+json": {
       "model_id": "db908a640fc643d3926fdaa47a2f3fd8",
       "version_major": 2,
       "version_minor": 0
      },
      "text/plain": [
       "HBox(children=(IntProgress(value=0, description='Epoch', max=50), HTML(value='')))"
      ]
     },
     "metadata": {},
     "output_type": "display_data"
    },
    {
     "name": "stdout",
     "output_type": "stream",
     "text": [
      "epoch      trn_loss   val_loss   accuracy                   \n",
      "    0      4.758472   4.527741   0.313736  \n",
      "    1      4.376474   4.225862   0.338205                   \n",
      "    2      4.14226    4.064678   0.351058                   \n",
      "    3      3.971739   3.97463    0.359257                   \n",
      "    4      3.840452   3.924864   0.365203                   \n",
      "    5      3.741312   3.896128   0.367376                   \n",
      "    6      3.654197   3.899738   0.367836                   \n",
      "    7      3.593265   3.890822   0.36992                    \n",
      "    8      3.543114   3.899772   0.368917                   \n",
      "    9      3.522797   3.904227   0.368674                   \n",
      "    10     3.481125   3.924049   0.368174                   \n",
      "    11     3.520878   3.885577   0.369876                   \n",
      "    12     3.458382   3.931189   0.369122                   \n",
      "    13     3.459353   3.944563   0.367884                   \n",
      "    14     3.472638   3.941541   0.366836                   \n",
      "    15     3.469951   3.956757   0.367238                   \n",
      "    16     3.477541   3.960421   0.367423                   \n",
      "    17     3.476642   3.968084   0.366191                   \n",
      "    18     3.513088   3.951925   0.367421                   \n",
      "    19     3.52127    3.963443   0.365499                   \n",
      "    20     3.483212   3.978978   0.365945                   \n",
      "    21     3.468388   3.947927   0.367306                   \n",
      "    22     3.404243   3.957801   0.368756                   \n",
      "    23     3.356998   3.963162   0.370007                   \n",
      "    24     3.326359   3.954091   0.370014                   \n",
      "    25     3.236428   3.976842   0.370418                   \n",
      "    26     3.20915    3.978466   0.371199                   \n",
      "    27     3.161379   3.98124    0.37172                    \n",
      "    28     3.100778   3.994503   0.370502                   \n",
      "    29     3.112517   3.97342    0.37119                    \n",
      "    30     2.963816   4.031576   0.372782                   \n",
      "    31     2.90844    4.039575   0.372308                   \n",
      "    32     2.893689   4.031701   0.372963                   \n",
      "    33     2.798828   4.060503   0.374107                   \n",
      "    34     2.774747   4.065389   0.372871                   \n",
      "    35     2.828957   4.04488    0.374232                   \n",
      "    36     2.64226    4.084708   0.374286                   \n",
      "    37     2.628135   4.085171   0.375027                   \n",
      "    38     2.562761   4.093494   0.374913                   \n",
      "    39     2.565375   4.09648    0.374967                   \n",
      "    40     2.56253    4.095826   0.375471                   \n",
      "    41     2.546282   4.097883   0.375922                   \n",
      "    42     2.516529   4.10557    0.37562                    \n",
      "    43     2.573526   4.114848   0.374758                   \n",
      "    44     2.499739   4.101306   0.375966                   \n",
      "    45     2.557479   4.110836   0.375854                   \n",
      "    46     2.465366   4.112019   0.375559                   \n",
      "    47     2.527154   4.117034   0.375235                   \n",
      "    48     2.510011   4.113477   0.375176                   \n",
      "    49     2.514463   4.117839   0.375473                   \n",
      "\n"
     ]
    },
    {
     "data": {
      "text/plain": [
       "[array([4.11784]), 0.3754734806716442]"
      ]
     },
     "execution_count": 56,
     "metadata": {},
     "output_type": "execute_result"
    }
   ],
   "source": [
    "lr=1e-2\n",
    "lrs = lr\n",
    "learner.fit(lrs, 1, wds=wd, cycle_len=50, use_clr_beta=(20,20,0.95,0.85))"
   ]
  },
  {
   "cell_type": "code",
   "execution_count": 57,
   "metadata": {},
   "outputs": [],
   "source": [
    "learner.save('lmorg_bwd')\n",
    "learner.save_encoder('lmorg_enc_bwd')"
   ]
  },
  {
   "cell_type": "code",
   "execution_count": 58,
   "metadata": {},
   "outputs": [
    {
     "data": {
      "image/png": "[encoded data removed]",
      "text/plain": [
       "<Figure size 432x288 with 1 Axes>"
      ]
     },
     "metadata": {
      "needs_background": "light"
     },
     "output_type": "display_data"
    }
   ],
   "source": [
    "learner.sched.plot_loss()"
   ]
  },
  {
   "cell_type": "markdown",
   "metadata": {},
   "source": [
    "### Forward - wikitext103 conversion"
   ]
  },
  {
   "cell_type": "code",
   "execution_count": 59,
   "metadata": {},
   "outputs": [],
   "source": [
    "em_sz,nh,nl = 400,1150,3"
   ]
  },
  {
   "cell_type": "code",
   "execution_count": 60,
   "metadata": {},
   "outputs": [],
   "source": [
    "PRE_PATH = PATH/'models'/'wt103'\n",
    "PRE_LM_PATH = PRE_PATH/'fwd_wt103.h5'"
   ]
  },
  {
   "cell_type": "code",
   "execution_count": 61,
   "metadata": {},
   "outputs": [],
   "source": [
    "wgts = torch.load(PRE_LM_PATH, map_location=lambda storage, loc: storage)\n",
    "\n",
    "enc_wgts = to_np(wgts['0.encoder.weight'])\n",
    "row_m = enc_wgts.mean(0)\n",
    "\n",
    "itos2 = pickle.load((PRE_PATH/'itos_wt103.pkl').open('rb'))\n",
    "stoi2 = collections.defaultdict(lambda:-1, {v:k for k,v in enumerate(itos2)})\n",
    "\n",
    "#let's remove items from wikitext which are not used in twitter data # save the memory\n",
    "new_w = np.zeros((vs, em_sz), dtype=np.float32)\n",
    "for i,w in enumerate(itos):\n",
    "    r = stoi2[w]\n",
    "    new_w[i] = enc_wgts[r] if r>=0 else row_m"
   ]
  },
  {
   "cell_type": "markdown",
   "metadata": {},
   "source": [
    "Now overwrite the weights into the wgts odict.\n",
    "The decoder module is also loaded with the same weights due to an idea called weight tying."
   ]
  },
  {
   "cell_type": "code",
   "execution_count": 62,
   "metadata": {},
   "outputs": [],
   "source": [
    "wgts['0.encoder.weight'] = T(new_w)\n",
    "wgts['0.encoder_with_dropout.embed.weight'] = T(np.copy(new_w))\n",
    "wgts['1.decoder.weight'] = T(np.copy(new_w))"
   ]
  },
  {
   "cell_type": "markdown",
   "metadata": {},
   "source": [
    "### Forward - Language model"
   ]
  },
  {
   "cell_type": "code",
   "execution_count": 63,
   "metadata": {},
   "outputs": [],
   "source": [
    "wd=1e-7\n",
    "bptt=70\n",
    "bs=52\n",
    "opt_fn = partial(optim.Adam, betas=(0.8, 0.99))"
   ]
  },
  {
   "cell_type": "code",
   "execution_count": 64,
   "metadata": {},
   "outputs": [],
   "source": [
    "trn_dl = LanguageModelLoader(np.concatenate(trn_lm), bs, bptt)\n",
    "val_dl = LanguageModelLoader(np.concatenate(val_lm), bs, bptt)\n",
    "md = LanguageModelData(PATH, 1, vs, trn_dl, val_dl, bs=bs, bptt=bptt)"
   ]
  },
  {
   "cell_type": "code",
   "execution_count": 65,
   "metadata": {},
   "outputs": [],
   "source": [
    "drops = np.array([0.25, 0.1, 0.2, 0.02, 0.15]) * 1."
   ]
  },
  {
   "cell_type": "markdown",
   "metadata": {},
   "source": [
    "First tune the last embedding layer so that the missing tokens initialized with mean weights get tuned properly. So\n",
    "freeze everything except the last layer."
   ]
  },
  {
   "cell_type": "code",
   "execution_count": 66,
   "metadata": {},
   "outputs": [],
   "source": [
    "learner= md.get_model(opt_fn, em_sz, nh, nl, \n",
    "    dropouti=drops[0], dropout=drops[1], wdrop=drops[2], dropoute=drops[3], dropouth=drops[4])\n",
    "\n",
    "learner.metrics = [accuracy]\n",
    "learner.freeze_to(-1)"
   ]
  },
  {
   "cell_type": "code",
   "execution_count": 67,
   "metadata": {},
   "outputs": [],
   "source": [
    "learner.model.load_state_dict(wgts)"
   ]
  },
  {
   "cell_type": "code",
   "execution_count": 68,
   "metadata": {},
   "outputs": [],
   "source": [
    "lr=1e-3\n",
    "lrs = lr"
   ]
  },
  {
   "cell_type": "code",
   "execution_count": 69,
   "metadata": {},
   "outputs": [
    {
     "data": {
      "application/vnd.jupyter.widget-view+json": {
       "model_id": "7c3cf002379b4f86968e201a70c0d2a9",
       "version_major": 2,
       "version_minor": 0
      },
      "text/plain": [
       "HBox(children=(IntProgress(value=0, description='Epoch', max=1), HTML(value='')))"
      ]
     },
     "metadata": {},
     "output_type": "display_data"
    },
    {
     "name": "stdout",
     "output_type": "stream",
     "text": [
      "epoch      trn_loss   val_loss   accuracy                   \n",
      "    0      5.618321   5.22793    0.256074  \n",
      "\n"
     ]
    },
    {
     "data": {
      "text/plain": [
       "[array([5.22793]), 0.2560740280896425]"
      ]
     },
     "execution_count": 69,
     "metadata": {},
     "output_type": "execute_result"
    }
   ],
   "source": [
    "learner.fit(lrs/2, 1, wds=wd, use_clr=(32,2), cycle_len=1)"
   ]
  },
  {
   "cell_type": "code",
   "execution_count": 70,
   "metadata": {},
   "outputs": [],
   "source": [
    "learner.unfreeze()"
   ]
  },
  {
   "cell_type": "code",
   "execution_count": 71,
   "metadata": {
    "scrolled": true
   },
   "outputs": [
    {
     "data": {
      "application/vnd.jupyter.widget-view+json": {
       "model_id": "c11428ea8c5b479b8bd7ff8b5eb9acd0",
       "version_major": 2,
       "version_minor": 0
      },
      "text/plain": [
       "HBox(children=(IntProgress(value=0, description='Epoch', max=1), HTML(value='')))"
      ]
     },
     "metadata": {},
     "output_type": "display_data"
    },
    {
     "name": "stdout",
     "output_type": "stream",
     "text": [
      "epoch      trn_loss   val_loss   accuracy                   \n",
      "    0      7.615104   7.753351   0.115321  \n",
      "\n"
     ]
    }
   ],
   "source": [
    "learner.lr_find(wds = wd, start_lr=lrs/100, end_lr=lrs*100, linear=True)"
   ]
  },
  {
   "cell_type": "code",
   "execution_count": 72,
   "metadata": {},
   "outputs": [
    {
     "data": {
      "image/png": "[encoded data removed]",
      "text/plain": [
       "<Figure size 432x288 with 1 Axes>"
      ]
     },
     "metadata": {
      "needs_background": "light"
     },
     "output_type": "display_data"
    }
   ],
   "source": [
    "learner.sched.plot()"
   ]
  },
  {
   "cell_type": "code",
   "execution_count": 73,
   "metadata": {},
   "outputs": [
    {
     "data": {
      "application/vnd.jupyter.widget-view+json": {
       "model_id": "d8ee76b203524159bcffb8a2ae6d6e41",
       "version_major": 2,
       "version_minor": 0
      },
      "text/plain": [
       "HBox(children=(IntProgress(value=0, description='Epoch', max=50), HTML(value='')))"
      ]
     },
     "metadata": {},
     "output_type": "display_data"
    },
    {
     "name": "stdout",
     "output_type": "stream",
     "text": [
      "epoch      trn_loss   val_loss   accuracy                   \n",
      "    0      4.282513   4.030197   0.358103  \n",
      "    1      4.014571   3.880066   0.369922                   \n",
      "    2      3.839887   3.807143   0.375872                   \n",
      "    3      3.695459   3.773499   0.378392                   \n",
      "    4      3.634002   3.757751   0.379198                   \n",
      "    5      3.551398   3.775701   0.378423                   \n",
      "    6      3.498381   3.801439   0.376975                   \n",
      "    7      3.489707   3.821314   0.375121                   \n",
      "    8      3.456516   3.820474   0.375959                   \n",
      "    9      3.455081   3.842313   0.376047                   \n",
      "    10     3.457357   3.852042   0.3761                     \n",
      "    11     3.480555   3.868874   0.374708                   \n",
      "    12     3.499701   3.88024    0.372922                   \n",
      "    13     3.512118   3.892895   0.370704                   \n",
      "    14     3.541986   3.894297   0.370237                   \n",
      "    15     3.561718   3.894807   0.370381                   \n",
      "    16     3.597723   3.892467   0.370633                   \n",
      "    17     3.592121   3.924823   0.367023                   \n",
      "    18     3.597504   3.939261   0.366793                   \n",
      "    19     3.614246   3.93989    0.366907                   \n",
      "    20     3.620945   3.930112   0.36737                    \n",
      "    21     3.592415   3.922079   0.367892                   \n",
      "    22     3.525811   3.919972   0.369292                   \n",
      "    23     3.463878   3.931826   0.369326                   \n",
      "    24     3.414109   3.923925   0.370561                   \n",
      "    25     3.367762   3.923961   0.371314                   \n",
      "    26     3.299112   3.934202   0.372283                   \n",
      "    27     3.245413   3.944763   0.372156                   \n",
      "    28     3.198879   3.938661   0.374576                   \n",
      "    29     3.136067   3.954371   0.374584                   \n",
      "    30     3.150527   3.932816   0.374403                   \n",
      "    31     3.061035   3.960253   0.375296                   \n",
      "    32     2.971888   3.974618   0.375745                   \n",
      "    33     2.920166   3.986419   0.375349                   \n",
      "    34     2.916642   3.977736   0.376729                   \n",
      "    35     2.86257    3.989125   0.377524                   \n",
      "    36     2.915639   3.983678   0.377875                   \n",
      "    37     2.75055    4.013889   0.377834                   \n",
      "    38     2.726917   4.005966   0.379465                   \n",
      "    39     2.686373   4.014588   0.379011                   \n",
      "    40     2.656926   4.012613   0.378878                   \n",
      "    41     2.727626   4.013756   0.379465                   \n",
      "    42     2.781723   4.012922   0.379144                   \n",
      "    43     2.647087   4.016079   0.379582                   \n",
      "    44     2.71693    4.011636   0.379724                   \n",
      "    45     2.634507   4.017555   0.37932                    \n",
      "    46     2.60298    4.024418   0.379092                   \n",
      "    47     2.68358    4.024289   0.378924                   \n",
      "    48     2.637583   4.019177   0.379779                   \n",
      "    49     2.705805   4.019566   0.379528                   \n",
      "\n"
     ]
    },
    {
     "data": {
      "text/plain": [
       "[array([4.01957]), 0.37952770441770556]"
      ]
     },
     "execution_count": 73,
     "metadata": {},
     "output_type": "execute_result"
    }
   ],
   "source": [
    "lr=1e-2\n",
    "lrs = lr\n",
    "learner.fit(lrs, 1, wds=wd, cycle_len=50, use_clr_beta=(20,20,0.95,0.85))"
   ]
  },
  {
   "cell_type": "code",
   "execution_count": 74,
   "metadata": {},
   "outputs": [],
   "source": [
    "learner.save('lmorg')\n",
    "learner.save_encoder('lmorg_enc')"
   ]
  },
  {
   "cell_type": "code",
   "execution_count": 75,
   "metadata": {},
   "outputs": [
    {
     "data": {
      "image/png": "[encoded data removed]",
      "text/plain": [
       "<Figure size 432x288 with 1 Axes>"
      ]
     },
     "metadata": {
      "needs_background": "light"
     },
     "output_type": "display_data"
    }
   ],
   "source": [
    "learner.sched.plot_loss()"
   ]
  },
  {
   "cell_type": "markdown",
   "metadata": {},
   "source": [
    "## Classifier tokens"
   ]
  },
  {
   "cell_type": "markdown",
   "metadata": {},
   "source": [
    "The classifier model is basically a linear layer custom head on top of the LM backbone. \n",
    "Let's first load the tokens for the model"
   ]
  },
  {
   "cell_type": "code",
   "execution_count": 24,
   "metadata": {},
   "outputs": [],
   "source": [
    "df_trn = pd.read_csv(CLAS_PATH/'train.csv', header=None, chunksize=chunksize)\n",
    "df_val = pd.read_csv(CLAS_PATH/'test.csv', header=None, chunksize=chunksize)"
   ]
  },
  {
   "cell_type": "code",
   "execution_count": 25,
   "metadata": {},
   "outputs": [
    {
     "name": "stdout",
     "output_type": "stream",
     "text": [
      "0\n",
      "1\n",
      "0\n"
     ]
    }
   ],
   "source": [
    "tok_trn, trn_labels = get_all(df_trn, 1)\n",
    "tok_val, val_labels = get_all(df_val, 1)"
   ]
  },
  {
   "cell_type": "code",
   "execution_count": 26,
   "metadata": {},
   "outputs": [
    {
     "data": {
      "text/plain": [
       "32085"
      ]
     },
     "execution_count": 26,
     "metadata": {},
     "output_type": "execute_result"
    }
   ],
   "source": [
    "len(tok_trn)"
   ]
  },
  {
   "cell_type": "code",
   "execution_count": 27,
   "metadata": {},
   "outputs": [],
   "source": [
    "\n",
    "(CLAS_PATH/'tmp').mkdir(exist_ok=True)\n",
    "\n",
    "np.save(CLAS_PATH/'tmp'/'tok_trn.npy', tok_trn)\n",
    "np.save(CLAS_PATH/'tmp'/'tok_val.npy', tok_val)\n",
    "\n",
    "np.save(CLAS_PATH/'tmp'/'trn_labels.npy', trn_labels)\n",
    "np.save(CLAS_PATH/'tmp'/'val_labels.npy', val_labels)"
   ]
  },
  {
   "cell_type": "code",
   "execution_count": 28,
   "metadata": {},
   "outputs": [],
   "source": [
    "tok_trn = np.load(CLAS_PATH/'tmp'/'tok_trn.npy')\n",
    "tok_val = np.load(CLAS_PATH/'tmp'/'tok_val.npy')"
   ]
  },
  {
   "cell_type": "code",
   "execution_count": 29,
   "metadata": {},
   "outputs": [
    {
     "data": {
      "text/plain": [
       "22471"
      ]
     },
     "execution_count": 29,
     "metadata": {},
     "output_type": "execute_result"
    }
   ],
   "source": [
    "itos = pickle.load((LM_PATH/'tmp'/'itos.pkl').open('rb'))\n",
    "stoi = collections.defaultdict(lambda:0, {v:k for k,v in enumerate(itos)})\n",
    "len(stoi)"
   ]
  },
  {
   "cell_type": "code",
   "execution_count": 30,
   "metadata": {},
   "outputs": [],
   "source": [
    "trn_clas = np.array([[stoi[o] for o in p] for p in tok_trn])\n",
    "val_clas = np.array([[stoi[o] for o in p] for p in tok_val])"
   ]
  },
  {
   "cell_type": "code",
   "execution_count": 31,
   "metadata": {},
   "outputs": [],
   "source": [
    "np.save(CLAS_PATH/'tmp'/'trn_ids.npy', trn_clas)\n",
    "np.save(CLAS_PATH/'tmp'/'val_ids.npy', val_clas)"
   ]
  },
  {
   "cell_type": "markdown",
   "metadata": {},
   "source": [
    "## Classifier"
   ]
  },
  {
   "cell_type": "code",
   "execution_count": 32,
   "metadata": {},
   "outputs": [],
   "source": [
    "trn_clas = np.load(CLAS_PATH/'tmp'/'trn_ids.npy')\n",
    "val_clas = np.load(CLAS_PATH/'tmp'/'val_ids.npy')"
   ]
  },
  {
   "cell_type": "code",
   "execution_count": 33,
   "metadata": {},
   "outputs": [],
   "source": [
    "trn_labels = np.squeeze(np.load(CLAS_PATH/'tmp'/'trn_labels.npy'))\n",
    "val_labels = np.squeeze(np.load(CLAS_PATH/'tmp'/'val_labels.npy'))"
   ]
  },
  {
   "cell_type": "code",
   "execution_count": 34,
   "metadata": {},
   "outputs": [],
   "source": [
    "bptt,em_sz,nh,nl = 70,400,1150,3\n",
    "vs = len(itos)\n",
    "opt_fn = partial(optim.Adam, betas=(0.8, 0.99))\n",
    "bs = 256"
   ]
  },
  {
   "cell_type": "code",
   "execution_count": 35,
   "metadata": {},
   "outputs": [],
   "source": [
    "min_lbl = trn_labels.min()\n",
    "trn_labels -= min_lbl\n",
    "val_labels -= min_lbl\n",
    "c=int(trn_labels.max())+1"
   ]
  },
  {
   "cell_type": "code",
   "execution_count": 36,
   "metadata": {},
   "outputs": [],
   "source": [
    "lengths = np.vectorize(len)(trn_clas)"
   ]
  },
  {
   "cell_type": "code",
   "execution_count": 37,
   "metadata": {},
   "outputs": [
    {
     "data": {
      "text/plain": [
       "2"
      ]
     },
     "execution_count": 37,
     "metadata": {},
     "output_type": "execute_result"
    }
   ],
   "source": [
    "len(np.where(lengths>70)[0])"
   ]
  },
  {
   "cell_type": "markdown",
   "metadata": {},
   "source": [
    "In the classifier, unlike LM, we need to read a twit at a time and learn to predict the it's sentiment as pos/neg. We do not deal with equal bptt size batches, so we have to pad the sequences to the same length in each batch. To not pad too much, we use a sortish sampler method invented by [@Smerity](https://twitter.com/Smerity) and [@jekbradbury](https://twitter.com/jekbradbury). Good things in a twitter data is that only few obs have more than 70 tokens (bptt parameter).\n"
   ]
  },
  {
   "cell_type": "markdown",
   "metadata": {},
   "source": [
    "Modify the loader class to produce input for both forward and backward models"
   ]
  },
  {
   "cell_type": "code",
   "execution_count": 104,
   "metadata": {},
   "outputs": [],
   "source": [
    "class BiDirDataLoader(DataLoader):\n",
    "    def __init__(self, dataset, batch_size=1, shuffle=False, sampler=None, batch_sampler=None, pad_idx=0,\n",
    "                 num_workers=None, pin_memory=False, drop_last=False, pre_pad=True, half=False,\n",
    "                 transpose=False, transpose_y=False):\n",
    "        super().__init__(dataset, batch_size, shuffle, sampler, batch_sampler, pad_idx,\n",
    "                 num_workers, pin_memory, drop_last, pre_pad, half,\n",
    "                 transpose, transpose_y)\n",
    "\n",
    "    def jag_stack(self, b):\n",
    "        if len(b[0].shape) not in (1,2): return np.stack(b)\n",
    "        ml = max(len(o) for o in b)\n",
    "        if min(len(o) for o in b)==ml: return np.stack(b)\n",
    "        res = np.zeros((len(b), ml), dtype=b[0].dtype) + self.pad_idx\n",
    "        res_bwd = np.zeros((len(b), ml), dtype=b[0].dtype) + self.pad_idx\n",
    "        for i,o in enumerate(b):\n",
    "            res[i, -len(o):] = o\n",
    "            res_bwd[i, -len(o):] = o[::-1]\n",
    "        return np.concatenate([res,res_bwd], axis=1)"
   ]
  },
  {
   "cell_type": "code",
   "execution_count": 105,
   "metadata": {},
   "outputs": [],
   "source": [
    "trn_ds = TextDataset(trn_clas, trn_labels)\n",
    "val_ds = TextDataset(val_clas, val_labels)\n",
    "trn_samp = SortishSampler(trn_clas, key=lambda x: len(trn_clas[x]), bs=bs//2)\n",
    "val_samp = SortSampler(val_clas, key=lambda x: len(val_clas[x]))\n",
    "trn_dl = BiDirDataLoader(trn_ds, bs//2, transpose=True, num_workers=1, pad_idx=1, sampler=trn_samp)\n",
    "val_dl = BiDirDataLoader(val_ds, bs, transpose=True, num_workers=1, pad_idx=1, sampler=val_samp)\n",
    "md = ModelData(PATH, trn_dl, val_dl)"
   ]
  },
  {
   "cell_type": "code",
   "execution_count": 229,
   "metadata": {},
   "outputs": [],
   "source": [
    "dps = np.array([0.4,0.5,0.05,0.3,0.4]) * 1.1 #*0.5"
   ]
  },
  {
   "cell_type": "code",
   "execution_count": 250,
   "metadata": {},
   "outputs": [],
   "source": [
    "#modify this fastai class to ouput also hidden state\n",
    "class RNN_Encoder(nn.Module):\n",
    "\n",
    "    \"\"\"A custom RNN encoder network that uses\n",
    "        - an embedding matrix to encode input,\n",
    "        - a stack of LSTM or QRNN layers to drive the network, and\n",
    "        - variational dropouts in the embedding and LSTM/QRNN layers\n",
    "\n",
    "        The architecture for this network was inspired by the work done in\n",
    "        \"Regularizing and Optimizing LSTM Language Models\".\n",
    "        (https://arxiv.org/pdf/1708.02182.pdf)\n",
    "    \"\"\"\n",
    "\n",
    "    initrange=0.1\n",
    "\n",
    "    def __init__(self, ntoken, emb_sz, nhid, nlayers, pad_token, bidir=False,\n",
    "                 dropouth=0.3, dropouti=0.65, dropoute=0.1, wdrop=0.5, qrnn=False, bias=False):\n",
    "        \"\"\" Default constructor for the RNN_Encoder class\n",
    "\n",
    "            Args:\n",
    "                bs (int): batch size of input data\n",
    "                ntoken (int): number of vocabulary (or tokens) in the source dataset\n",
    "                emb_sz (int): the embedding size to use to encode each token\n",
    "                nhid (int): number of hidden activation per LSTM layer\n",
    "                nlayers (int): number of LSTM layers to use in the architecture\n",
    "                pad_token (int): the int value used for padding text.\n",
    "                dropouth (float): dropout to apply to the activations going from one LSTM layer to another\n",
    "                dropouti (float): dropout to apply to the input layer.\n",
    "                dropoute (float): dropout to apply to the embedding layer.\n",
    "                wdrop (float): dropout used for a LSTM's internal (or hidden) recurrent weights.\n",
    "\n",
    "            Returns:\n",
    "                None\n",
    "          \"\"\"\n",
    "\n",
    "        super().__init__()\n",
    "        self.ndir = 2 if bidir else 1\n",
    "        self.bs, self.qrnn = 1, qrnn\n",
    "        self.encoder = nn.Embedding(ntoken, emb_sz, padding_idx=pad_token)\n",
    "        self.encoder_with_dropout = EmbeddingDropout(self.encoder)\n",
    "        if self.qrnn:\n",
    "            #Using QRNN requires cupy: https://github.com/cupy/cupy\n",
    "            from .torchqrnn.qrnn import QRNNLayer\n",
    "            self.rnns = [QRNNLayer(emb_sz if l == 0 else nhid, (nhid if l != nlayers - 1 else emb_sz)//self.ndir,\n",
    "                save_prev_x=True, zoneout=0, window=2 if l == 0 else 1, output_gate=True) for l in range(nlayers)]\n",
    "            if wdrop:\n",
    "                for rnn in self.rnns:\n",
    "                    rnn.linear = WeightDrop(rnn.linear, wdrop, weights=['weight'])\n",
    "        else:\n",
    "            self.rnns = [nn.LSTM(emb_sz if l == 0 else nhid, (nhid if l != nlayers - 1 else emb_sz)//self.ndir,\n",
    "                1, bidirectional=bidir) for l in range(nlayers)]\n",
    "            if wdrop: self.rnns = [WeightDrop(rnn, wdrop) for rnn in self.rnns]\n",
    "        self.rnns = torch.nn.ModuleList(self.rnns)\n",
    "        self.encoder.weight.data.uniform_(-self.initrange, self.initrange)\n",
    "\n",
    "        self.emb_sz,self.nhid,self.nlayers,self.dropoute = emb_sz,nhid,nlayers,dropoute\n",
    "        self.dropouti = LockedDropout(dropouti)\n",
    "        self.dropouths = nn.ModuleList([LockedDropout(dropouth) for l in range(nlayers)])\n",
    "\n",
    "    def forward(self, input):\n",
    "        \"\"\" Invoked during the forward propagation of the RNN_Encoder module.\n",
    "        Args:\n",
    "            input (Tensor): input of shape (sentence length x batch_size)\n",
    "\n",
    "        Returns:\n",
    "            raw_outputs (tuple(list (Tensor), list(Tensor)): list of tensors evaluated from each RNN layer without using\n",
    "            dropouth, list of tensors evaluated from each RNN layer using dropouth,\n",
    "        \"\"\"\n",
    "        sl,bs = input.size()\n",
    "        if bs!=self.bs:\n",
    "            self.bs=bs\n",
    "            self.reset()\n",
    "        with set_grad_enabled(self.training):\n",
    "            emb = self.encoder_with_dropout(input, dropout=self.dropoute if self.training else 0)\n",
    "            emb = self.dropouti(emb)\n",
    "            raw_output = emb\n",
    "            new_hidden,raw_outputs,outputs = [],[],[]\n",
    "            for l, (rnn,drop) in enumerate(zip(self.rnns, self.dropouths)):\n",
    "                current_input = raw_output\n",
    "                with warnings.catch_warnings():\n",
    "                    warnings.simplefilter(\"ignore\")\n",
    "                    raw_output, new_h = rnn(raw_output, self.hidden[l])\n",
    "                new_hidden.append(new_h)\n",
    "                raw_outputs.append(raw_output)\n",
    "                if l != self.nlayers - 1: raw_output = drop(raw_output)\n",
    "                outputs.append(raw_output)\n",
    "            self.hidden = repackage_var(new_hidden)\n",
    "        return raw_outputs, outputs, new_hidden\n",
    "\n",
    "    def one_hidden(self, l):\n",
    "        nh = (self.nhid if l != self.nlayers - 1 else self.emb_sz)//self.ndir\n",
    "        if IS_TORCH_04: return Variable(self.weights.new(self.ndir, self.bs, nh).zero_())\n",
    "        else: return Variable(self.weights.new(self.ndir, self.bs, nh).zero_(), volatile=not self.training)\n",
    "\n",
    "    def reset(self):\n",
    "        if self.qrnn: [r.reset() for r in self.rnns]\n",
    "        self.weights = next(self.parameters()).data\n",
    "        if self.qrnn: self.hidden = [self.one_hidden(l) for l in range(self.nlayers)]\n",
    "        else: self.hidden = [(self.one_hidden(l), self.one_hidden(l)) for l in range(self.nlayers)]\n",
    "            \n",
    "#modify this fastai class to ouput also hidden state           \n",
    "class MultiBatchRNN(RNN_Encoder):\n",
    "    def __init__(self, bptt, max_seq, *args, **kwargs):\n",
    "        self.max_seq,self.bptt = max_seq,bptt\n",
    "        super().__init__(*args, **kwargs)\n",
    "\n",
    "    def concat(self, arrs):\n",
    "        return [torch.cat([l[si] for l in arrs]) for si in range(len(arrs[0]))]\n",
    "\n",
    "    def forward(self, input):\n",
    "        sl,bs = input.size()\n",
    "        for l in self.hidden:\n",
    "            for h in l: h.data.zero_()\n",
    "        raw_outputs, outputs = [],[]\n",
    "        for i in range(0, sl, self.bptt):\n",
    "            r, o, h = super().forward(input[i: min(i+self.bptt, sl)])\n",
    "            if i>(sl-self.max_seq):\n",
    "                raw_outputs.append(r)\n",
    "                outputs.append(o)\n",
    "        return self.concat(raw_outputs), self.concat(outputs), h\n",
    "\n",
    "#create a class which will take as an input two rnns and on top of that will create classifier\n",
    "class BiDir_Classifier(nn.Module):\n",
    "    def __init__(self, bptt, max_seq, n_class, n_tok, emb_sz, n_hid, n_layers, pad_token, layers, drops, bidir=False,\n",
    "                      dropouth=0.3, dropouti=0.5, dropoute=0.1, wdrop=0.5, qrnn=False):\n",
    "        super().__init__()\n",
    "        self.rnn1 = MultiBatchRNN(bptt, max_seq, n_tok, emb_sz, n_hid, n_layers, pad_token=pad_token, bidir=bidir,\n",
    "                      dropouth=dropouth, dropouti=dropouti, dropoute=dropoute, wdrop=wdrop, qrnn=qrnn)\n",
    "        self.rnn2 = MultiBatchRNN(bptt, max_seq, n_tok, emb_sz, n_hid, n_layers, pad_token=pad_token, bidir=bidir,\n",
    "                       dropouth=dropouth, dropouti=dropouti, dropoute=dropoute, wdrop=wdrop, qrnn=qrnn)\n",
    "        self.layers = nn.ModuleList([\n",
    "            LinearBlock(layers[i], layers[i + 1], drops[i]) for i in range(len(layers) - 1)])\n",
    "        self.rnn1.reset()\n",
    "        self.rnn2.reset()\n",
    "        \n",
    "\n",
    "    def pool(self, x, bs, is_max):\n",
    "        f = F.adaptive_max_pool1d if is_max else F.adaptive_avg_pool1d\n",
    "        return f(x.permute(1,2,0), (1,)).view(bs,-1)\n",
    "    \n",
    "    def forward(self, input):\n",
    "        l_, _ = input.shape\n",
    "        half_l = l_//2\n",
    "        \n",
    "        r1 = self.rnn1(input[:half_l])\n",
    "        r2 = self.rnn2(input[half_l:])\n",
    "        raw_outputs1, outputs1, hiddens1 = r1\n",
    "        raw_outputs2, outputs2, hiddens2 = r2\n",
    "        sl,bs,_ = outputs1[-1].size()\n",
    "        cell1= hiddens1[-1][0].permute(1,2,0).view(bs,-1)\n",
    "        #cell2= hiddens2[-1][0].permute(1,2,0).view(bs,-1)\n",
    "        output1 = outputs1[-1]\n",
    "        output2 = outputs2[-1]\n",
    "        \n",
    "        #avgpool1 = self.pool(output1, bs, False)\n",
    "        #avgpool2 = self.pool(output2, bs, False)\n",
    "        mxpool1 = self.pool(output1, bs, True)\n",
    "        mxpool2 = self.pool(output2, bs, True)\n",
    "        \n",
    "        #input to the classifier\n",
    "        x = torch.cat([cell1, mxpool1, mxpool2], 1)\n",
    "        #x = torch.cat([cl], 1)\n",
    "        for l in self.layers:\n",
    "            l_x = l(x)\n",
    "            x = F.relu(l_x)\n",
    "        return l_x, raw_outputs1, outputs1\n",
    "\n",
    "class TextModel(BasicModel):\n",
    "    def get_layer_groups(self):\n",
    "        m = self.model\n",
    "        return [(m.rnn1.encoder, m.rnn1.dropouti, m.rnn2.encoder, m.rnn2.dropouti), \n",
    "                *zip(m.rnn1.rnns, m.rnn1.dropouths, m.rnn2.rnns, m.rnn2.dropouths), (m.layers)]\n",
    "\n"
   ]
  },
  {
   "cell_type": "code",
   "execution_count": 251,
   "metadata": {},
   "outputs": [],
   "source": [
    "m = BiDir_Classifier(bptt, 20*70, c, vs, emb_sz=em_sz, n_hid=nh, n_layers=nl, pad_token=1,\n",
    "          layers=[em_sz*3, 50, c], drops=[dps[4], 0.1],\n",
    "          dropouti=dps[0], wdrop=dps[1], dropoute=dps[2], dropouth=dps[3])"
   ]
  },
  {
   "cell_type": "code",
   "execution_count": 252,
   "metadata": {},
   "outputs": [],
   "source": [
    "#Lets create a learner object\n",
    "opt_fn = partial(optim.Adam, betas=(0.7, 0.99))\n",
    "\n",
    "learn = RNN_Learner(md, TextModel(to_gpu(m)), opt_fn=opt_fn)\n",
    "learn.reg_fn = partial(seq2seq_reg, alpha=2, beta=1)\n",
    "learn.clip=0.3\n",
    "\n",
    "'''\n",
    "from sklearn.metrics import f1_score, precision_score, recall_score\n",
    "def f1pn(preds, targs):\n",
    "    top_preds = torch.max(preds, dim=1)[1]\n",
    "    return f1_score(targs, top_preds, average='macro',\n",
    "                       labels=[0,2])\n",
    "\n",
    "def recall_avg(preds, targs):\n",
    "    top_preds = torch.max(preds, dim=1)[1]\n",
    "    return recall_score(targs, top_preds, average='macro')\n",
    "'''\n",
    "\n",
    "metrics = [accuracy]\n",
    "learn.metrics = metrics"
   ]
  },
  {
   "cell_type": "code",
   "execution_count": 253,
   "metadata": {},
   "outputs": [
    {
     "name": "stdout",
     "output_type": "stream",
     "text": [
      "rnn1.encoder.weight torch.Size([22471, 400])\n",
      "rnn1.encoder_with_dropout.embed.weight torch.Size([22471, 400])\n",
      "rnn1.rnns.0.module.weight_ih_l0 torch.Size([4600, 400])\n",
      "rnn1.rnns.0.module.bias_ih_l0 torch.Size([4600])\n",
      "rnn1.rnns.0.module.bias_hh_l0 torch.Size([4600])\n",
      "rnn1.rnns.0.module.weight_hh_l0_raw torch.Size([4600, 1150])\n",
      "rnn1.rnns.1.module.weight_ih_l0 torch.Size([4600, 1150])\n",
      "rnn1.rnns.1.module.bias_ih_l0 torch.Size([4600])\n",
      "rnn1.rnns.1.module.bias_hh_l0 torch.Size([4600])\n",
      "rnn1.rnns.1.module.weight_hh_l0_raw torch.Size([4600, 1150])\n",
      "rnn1.rnns.2.module.weight_ih_l0 torch.Size([1600, 1150])\n",
      "rnn1.rnns.2.module.bias_ih_l0 torch.Size([1600])\n",
      "rnn1.rnns.2.module.bias_hh_l0 torch.Size([1600])\n",
      "rnn1.rnns.2.module.weight_hh_l0_raw torch.Size([1600, 400])\n",
      "rnn2.encoder.weight torch.Size([22471, 400])\n",
      "rnn2.encoder_with_dropout.embed.weight torch.Size([22471, 400])\n",
      "rnn2.rnns.0.module.weight_ih_l0 torch.Size([4600, 400])\n",
      "rnn2.rnns.0.module.bias_ih_l0 torch.Size([4600])\n",
      "rnn2.rnns.0.module.bias_hh_l0 torch.Size([4600])\n",
      "rnn2.rnns.0.module.weight_hh_l0_raw torch.Size([4600, 1150])\n",
      "rnn2.rnns.1.module.weight_ih_l0 torch.Size([4600, 1150])\n",
      "rnn2.rnns.1.module.bias_ih_l0 torch.Size([4600])\n",
      "rnn2.rnns.1.module.bias_hh_l0 torch.Size([4600])\n",
      "rnn2.rnns.1.module.weight_hh_l0_raw torch.Size([4600, 1150])\n",
      "rnn2.rnns.2.module.weight_ih_l0 torch.Size([1600, 1150])\n",
      "rnn2.rnns.2.module.bias_ih_l0 torch.Size([1600])\n",
      "rnn2.rnns.2.module.bias_hh_l0 torch.Size([1600])\n",
      "rnn2.rnns.2.module.weight_hh_l0_raw torch.Size([1600, 400])\n",
      "layers.0.lin.weight torch.Size([50, 1200])\n",
      "layers.0.lin.bias torch.Size([50])\n",
      "layers.0.bn.weight torch.Size([1200])\n",
      "layers.0.bn.bias torch.Size([1200])\n",
      "layers.0.bn.running_mean torch.Size([1200])\n",
      "layers.0.bn.running_var torch.Size([1200])\n",
      "layers.1.lin.weight torch.Size([3, 50])\n",
      "layers.1.lin.bias torch.Size([3])\n",
      "layers.1.bn.weight torch.Size([50])\n",
      "layers.1.bn.bias torch.Size([50])\n",
      "layers.1.bn.running_mean torch.Size([50])\n",
      "layers.1.bn.running_var torch.Size([50])\n"
     ]
    }
   ],
   "source": [
    "#summary of the model\n",
    "#print(m)\n",
    "for name, param in learn.model.state_dict().items():\n",
    "    print(name, param.shape)"
   ]
  },
  {
   "cell_type": "code",
   "execution_count": 254,
   "metadata": {},
   "outputs": [],
   "source": [
    "#Fastai practitioners suggest to use different lr for different part of the model\n",
    "#lrs=np.array([5e-5,5e-5,2e-4,5e-4,1e-3])\n",
    "lrs=np.array([2e-4,2e-4,1e-3,2e-3,5e-3]) \n",
    "#lrs=5e-3\n",
    "wd = 1e-7"
   ]
  },
  {
   "cell_type": "code",
   "execution_count": 271,
   "metadata": {},
   "outputs": [
    {
     "data": {
      "text/plain": [
       "[(0, (Embedding(22471, 400, padding_idx=1), LockedDropout(\n",
       "   ), Embedding(22471, 400, padding_idx=1), LockedDropout(\n",
       "   ))), (1, (WeightDrop(\n",
       "     (module): LSTM(400, 1150)\n",
       "   ), LockedDropout(\n",
       "   ), WeightDrop(\n",
       "     (module): LSTM(400, 1150)\n",
       "   ), LockedDropout(\n",
       "   ))), (2, (WeightDrop(\n",
       "     (module): LSTM(1150, 1150)\n",
       "   ), LockedDropout(\n",
       "   ), WeightDrop(\n",
       "     (module): LSTM(1150, 1150)\n",
       "   ), LockedDropout(\n",
       "   ))), (3, (WeightDrop(\n",
       "     (module): LSTM(1150, 400)\n",
       "   ), LockedDropout(\n",
       "   ), WeightDrop(\n",
       "     (module): LSTM(1150, 400)\n",
       "   ), LockedDropout(\n",
       "   ))), (4, ModuleList(\n",
       "    (0): LinearBlock(\n",
       "      (lin): Linear(in_features=1200, out_features=50, bias=True)\n",
       "      (drop): Dropout(p=0.44000000000000006)\n",
       "      (bn): BatchNorm1d(1200, eps=1e-05, momentum=0.1, affine=True)\n",
       "    )\n",
       "    (1): LinearBlock(\n",
       "      (lin): Linear(in_features=50, out_features=3, bias=True)\n",
       "      (drop): Dropout(p=0.1)\n",
       "      (bn): BatchNorm1d(50, eps=1e-05, momentum=0.1, affine=True)\n",
       "    )\n",
       "  ))]"
      ]
     },
     "execution_count": 271,
     "metadata": {},
     "output_type": "execute_result"
    }
   ],
   "source": [
    "#layer groups can be found using following\n",
    "#there is 5 layer groups in this model\n",
    "list(enumerate(learn.get_layer_groups()))"
   ]
  },
  {
   "cell_type": "code",
   "execution_count": 255,
   "metadata": {},
   "outputs": [],
   "source": [
    "#load the pretrain weights to the encoders\n",
    "wgts = torch.load(PATH/'models/lmorg_enc.h5', map_location=lambda storage, loc: storage)\n",
    "wgts2 = torch.load(PATH/'models/lmorg_enc_bwd.h5', map_location=lambda storage, loc: storage)\n",
    "\n",
    "learn.model.rnn1.load_state_dict(wgts)\n",
    "learn.model.rnn2.load_state_dict(wgts2)"
   ]
  },
  {
   "cell_type": "code",
   "execution_count": null,
   "metadata": {},
   "outputs": [],
   "source": []
  },
  {
   "cell_type": "code",
   "execution_count": 256,
   "metadata": {},
   "outputs": [],
   "source": [
    "learn.freeze_to(-1)"
   ]
  },
  {
   "cell_type": "code",
   "execution_count": 194,
   "metadata": {},
   "outputs": [
    {
     "data": {
      "application/vnd.jupyter.widget-view+json": {
       "model_id": "",
       "version_major": 2,
       "version_minor": 0
      },
      "text/plain": [
       "HBox(children=(IntProgress(value=0, description='Epoch', max=1), HTML(value='')))"
      ]
     },
     "metadata": {},
     "output_type": "display_data"
    },
    {
     "name": "stdout",
     "output_type": "stream",
     "text": [
      "epoch      trn_loss   val_loss   accuracy                    \n",
      "    0      0.988018   1.162609   0.376344  \n"
     ]
    },
    {
     "data": {
      "image/png": "[encoded data removed]",
      "text/plain": [
       "<Figure size 432x288 with 1 Axes>"
      ]
     },
     "metadata": {
      "needs_background": "light"
     },
     "output_type": "display_data"
    }
   ],
   "source": [
    "learn.lr_find(lrs/100, lrs*10)\n",
    "learn.sched.plot()"
   ]
  },
  {
   "cell_type": "markdown",
   "metadata": {},
   "source": [
    "lr=2e-3\n",
    "lrm = 5.\n",
    "lrs = np.array([lr/(lrm**2), lr/(lrm**2), lr/(lrm**2), lr/lrm, lr])\n",
    "lrs"
   ]
  },
  {
   "cell_type": "code",
   "execution_count": 195,
   "metadata": {},
   "outputs": [],
   "source": [
    "#lrs=np.array([1e-5,1e-5,5e-5,1e-4,5e-4])"
   ]
  },
  {
   "cell_type": "code",
   "execution_count": 196,
   "metadata": {},
   "outputs": [
    {
     "data": {
      "application/vnd.jupyter.widget-view+json": {
       "model_id": "",
       "version_major": 2,
       "version_minor": 0
      },
      "text/plain": [
       "HBox(children=(IntProgress(value=0, description='Epoch', max=2), HTML(value='')))"
      ]
     },
     "metadata": {},
     "output_type": "display_data"
    },
    {
     "name": "stdout",
     "output_type": "stream",
     "text": [
      "epoch      trn_loss   val_loss   accuracy                    \n",
      "    0      0.903943   0.885328   0.550768  \n",
      "    1      0.888106   0.869195   0.582044                    \n"
     ]
    },
    {
     "data": {
      "text/plain": [
       "[array([0.86919]), 0.5820444010908821]"
      ]
     },
     "execution_count": 196,
     "metadata": {},
     "output_type": "execute_result"
    }
   ],
   "source": [
    "learn.fit(lrs, 1, wds=wd, cycle_len=2, use_clr=(8,3))"
   ]
  },
  {
   "cell_type": "code",
   "execution_count": 197,
   "metadata": {},
   "outputs": [],
   "source": [
    "#learn.fit(lrs, 1, wds=wd, cycle_len=1, use_clr=(8,3)) #0.62"
   ]
  },
  {
   "cell_type": "code",
   "execution_count": 198,
   "metadata": {},
   "outputs": [],
   "source": [
    "learn.save('clas_0')"
   ]
  },
  {
   "cell_type": "code",
   "execution_count": 199,
   "metadata": {},
   "outputs": [],
   "source": [
    "learn.load('clas_0')"
   ]
  },
  {
   "cell_type": "code",
   "execution_count": 200,
   "metadata": {},
   "outputs": [
    {
     "data": {
      "application/vnd.jupyter.widget-view+json": {
       "model_id": "",
       "version_major": 2,
       "version_minor": 0
      },
      "text/plain": [
       "HBox(children=(IntProgress(value=0, description='Epoch', max=4), HTML(value='')))"
      ]
     },
     "metadata": {},
     "output_type": "display_data"
    },
    {
     "name": "stdout",
     "output_type": "stream",
     "text": [
      "epoch      trn_loss   val_loss   accuracy                    \n",
      "    0      0.850722   0.849863   0.593706  \n",
      "    1      0.816337   0.821846   0.604733                    \n",
      "    2      0.7818     0.8148     0.618834                    \n",
      "    3      0.79627    0.780124   0.641278                    \n"
     ]
    },
    {
     "data": {
      "text/plain": [
       "[array([0.78012]), 0.641278360584475]"
      ]
     },
     "execution_count": 200,
     "metadata": {},
     "output_type": "execute_result"
    }
   ],
   "source": [
    "learn.freeze_to(-2)\n",
    "learn.fit(lrs, 1, wds=wd, cycle_len=4, use_clr=(8,3))"
   ]
  },
  {
   "cell_type": "code",
   "execution_count": 201,
   "metadata": {},
   "outputs": [
    {
     "data": {
      "application/vnd.jupyter.widget-view+json": {
       "model_id": "",
       "version_major": 2,
       "version_minor": 0
      },
      "text/plain": [
       "HBox(children=(IntProgress(value=0, description='Epoch', max=4), HTML(value='')))"
      ]
     },
     "metadata": {},
     "output_type": "display_data"
    },
    {
     "name": "stdout",
     "output_type": "stream",
     "text": [
      "epoch      trn_loss   val_loss   accuracy                    \n",
      "    0      0.784638   0.770602   0.637082  \n",
      "    1      0.785558   0.793088   0.630446                    \n",
      "    2      0.769756   0.781791   0.646304                    \n",
      "    3      0.751688   0.759828   0.650305                    \n"
     ]
    },
    {
     "data": {
      "text/plain": [
       "[array([0.75983]), 0.6503049524303296]"
      ]
     },
     "execution_count": 201,
     "metadata": {},
     "output_type": "execute_result"
    }
   ],
   "source": [
    "learn.freeze_to(-3)\n",
    "learn.fit(lrs, 1, wds=wd, cycle_len=4, use_clr=(8,3))"
   ]
  },
  {
   "cell_type": "code",
   "execution_count": 202,
   "metadata": {},
   "outputs": [],
   "source": [
    "#oryginal lm - 0.64"
   ]
  },
  {
   "cell_type": "code",
   "execution_count": 203,
   "metadata": {},
   "outputs": [],
   "source": [
    "learn.save('clas_1')"
   ]
  },
  {
   "cell_type": "code",
   "execution_count": 204,
   "metadata": {},
   "outputs": [],
   "source": [
    "learn.load('clas_1')"
   ]
  },
  {
   "cell_type": "code",
   "execution_count": 205,
   "metadata": {},
   "outputs": [],
   "source": [
    "learn.unfreeze()"
   ]
  },
  {
   "cell_type": "code",
   "execution_count": 207,
   "metadata": {},
   "outputs": [
    {
     "data": {
      "application/vnd.jupyter.widget-view+json": {
       "model_id": "",
       "version_major": 2,
       "version_minor": 0
      },
      "text/plain": [
       "HBox(children=(IntProgress(value=0, description='Epoch', max=8), HTML(value='')))"
      ]
     },
     "metadata": {},
     "output_type": "display_data"
    },
    {
     "name": "stdout",
     "output_type": "stream",
     "text": [
      "epoch      trn_loss   val_loss   accuracy                    \n",
      "    0      0.748245   0.773685   0.637814  \n",
      "    1      0.753921   0.76915    0.642986                    \n",
      "    2      0.812521   0.841472   0.604879                    \n",
      "    3      0.770827   0.829907   0.618883                    \n",
      "    4      0.761529   0.789977   0.637717                    \n",
      "    5      0.752548   0.770926   0.641522                    \n",
      "    6      0.731447   0.783925   0.639083                    \n",
      "    7      0.738937   0.790165   0.639668                    \n"
     ]
    },
    {
     "data": {
      "text/plain": [
       "[array([0.79016]), 0.6396682117676904]"
      ]
     },
     "execution_count": 207,
     "metadata": {},
     "output_type": "execute_result"
    }
   ],
   "source": [
    "learn.fit(lrs, 1, wds=wd, cycle_len=8, use_clr_beta=(20,20,0.95,0.85))"
   ]
  },
  {
   "cell_type": "markdown",
   "metadata": {},
   "source": [
    "### Summary\n",
    "Training earliest layers gave not that good results. The final model will be the one trained on 3 last layer groups which gave 65% of accuracy"
   ]
  },
  {
   "cell_type": "code",
   "execution_count": null,
   "metadata": {},
   "outputs": [],
   "source": []
  }
 ],
 "metadata": {
  "_draft": {
   "nbviewer_url": "https://gist.github.com/0dd0df21cf404cf2bb51d0148c8b7d8b"
  },
  "gist": {
   "data": {
    "description": "fastai.text imdb example",
    "public": true
   },
   "id": "0dd0df21cf404cf2bb51d0148c8b7d8b"
  },
  "kernelspec": {
   "display_name": "Python 3",
   "language": "python",
   "name": "python3"
  },
  "language_info": {
   "codemirror_mode": {
    "name": "ipython",
    "version": 3
   },
   "file_extension": ".py",
   "mimetype": "text/x-python",
   "name": "python",
   "nbconvert_exporter": "python",
   "pygments_lexer": "ipython3",
   "version": "3.6.6"
  },
  "toc": {
   "colors": {
    "hover_highlight": "#DAA520",
    "navigate_num": "#000000",
    "navigate_text": "#333333",
    "running_highlight": "#FF0000",
    "selected_highlight": "#FFD700",
    "sidebar_border": "#EEEEEE",
    "wrapper_background": "#FFFFFF"
   },
   "moveMenuLeft": true,
   "nav_menu": {
    "height": "86px",
    "width": "252px"
   },
   "navigate_menu": true,
   "number_sections": true,
   "sideBar": true,
   "threshold": 4,
   "toc_cell": false,
   "toc_section_display": "block",
   "toc_window_display": false,
   "widenNotebook": false
  }
 },
 "nbformat": 4,
 "nbformat_minor": 2
}
